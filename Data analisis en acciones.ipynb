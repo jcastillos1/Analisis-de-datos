{
  "nbformat": 4,
  "nbformat_minor": 0,
  "metadata": {
    "colab": {
      "provenance": []
    },
    "kernelspec": {
      "name": "python3",
      "display_name": "Python 3"
    },
    "language_info": {
      "name": "python"
    }
  },
  "cells": [
    {
      "cell_type": "code",
      "metadata": {
        "id": "3CywgnlcTBK4"
      },
      "source": [
        "# Paquetes\n",
        "\n",
        "import numpy as np\n",
        "import matplotlib.pyplot as plt\n",
        "import pandas as pd\n",
        "import seaborn as sns"
      ],
      "execution_count": null,
      "outputs": []
    },
    {
      "cell_type": "code",
      "metadata": {
        "colab": {
          "base_uri": "https://localhost:8080/",
          "height": 612
        },
        "id": "-TZJ3wIVu2_d",
        "outputId": "0623fc1e-bc52-47f1-d2e2-c9bdb35e527b"
      },
      "source": [
        "Datos = pd.read_excel('/content/AccionDetalle.xls',header=1)\n",
        "Datos = Datos.drop(Datos.columns[[0]], axis='columns')\n",
        "Datos"
      ],
      "execution_count": null,
      "outputs": [
        {
          "output_type": "execute_result",
          "data": {
            "text/html": [
              "<div>\n",
              "<style scoped>\n",
              "    .dataframe tbody tr th:only-of-type {\n",
              "        vertical-align: middle;\n",
              "    }\n",
              "\n",
              "    .dataframe tbody tr th {\n",
              "        vertical-align: top;\n",
              "    }\n",
              "\n",
              "    .dataframe thead th {\n",
              "        text-align: right;\n",
              "    }\n",
              "</style>\n",
              "<table border=\"1\" class=\"dataframe\">\n",
              "  <thead>\n",
              "    <tr style=\"text-align: right;\">\n",
              "      <th></th>\n",
              "      <th>Nemotecnico</th>\n",
              "      <th>fecha</th>\n",
              "      <th>Cantidad</th>\n",
              "      <th>Volumen</th>\n",
              "      <th>Precio Cierre</th>\n",
              "      <th>Precio Mayor</th>\n",
              "      <th>Precio Medio</th>\n",
              "      <th>Precio Menor</th>\n",
              "      <th>Variacion%</th>\n",
              "      <th>Variacion Absoluta</th>\n",
              "    </tr>\n",
              "  </thead>\n",
              "  <tbody>\n",
              "    <tr>\n",
              "      <th>0</th>\n",
              "      <td>BVC</td>\n",
              "      <td>2021-01-04</td>\n",
              "      <td>3495</td>\n",
              "      <td>41415240</td>\n",
              "      <td>11860</td>\n",
              "      <td>11860</td>\n",
              "      <td>11849.85</td>\n",
              "      <td>11860</td>\n",
              "      <td>-0.17</td>\n",
              "      <td>-20</td>\n",
              "    </tr>\n",
              "    <tr>\n",
              "      <th>1</th>\n",
              "      <td>BVC</td>\n",
              "      <td>2021-01-05</td>\n",
              "      <td>63778</td>\n",
              "      <td>760232660</td>\n",
              "      <td>11940</td>\n",
              "      <td>11940</td>\n",
              "      <td>11919.98</td>\n",
              "      <td>11810</td>\n",
              "      <td>0.67</td>\n",
              "      <td>80</td>\n",
              "    </tr>\n",
              "    <tr>\n",
              "      <th>2</th>\n",
              "      <td>BVC</td>\n",
              "      <td>2021-01-06</td>\n",
              "      <td>360</td>\n",
              "      <td>4298400</td>\n",
              "      <td>11940</td>\n",
              "      <td>0</td>\n",
              "      <td>11940.00</td>\n",
              "      <td>0</td>\n",
              "      <td>0.00</td>\n",
              "      <td>0</td>\n",
              "    </tr>\n",
              "    <tr>\n",
              "      <th>3</th>\n",
              "      <td>BVC</td>\n",
              "      <td>2021-01-07</td>\n",
              "      <td>49133</td>\n",
              "      <td>596314410</td>\n",
              "      <td>12280</td>\n",
              "      <td>12500</td>\n",
              "      <td>12136.74</td>\n",
              "      <td>11940</td>\n",
              "      <td>2.85</td>\n",
              "      <td>340</td>\n",
              "    </tr>\n",
              "    <tr>\n",
              "      <th>4</th>\n",
              "      <td>BVC</td>\n",
              "      <td>2021-01-08</td>\n",
              "      <td>22958</td>\n",
              "      <td>291551460</td>\n",
              "      <td>12700</td>\n",
              "      <td>12810</td>\n",
              "      <td>12699.34</td>\n",
              "      <td>12530</td>\n",
              "      <td>3.42</td>\n",
              "      <td>420</td>\n",
              "    </tr>\n",
              "    <tr>\n",
              "      <th>...</th>\n",
              "      <td>...</td>\n",
              "      <td>...</td>\n",
              "      <td>...</td>\n",
              "      <td>...</td>\n",
              "      <td>...</td>\n",
              "      <td>...</td>\n",
              "      <td>...</td>\n",
              "      <td>...</td>\n",
              "      <td>...</td>\n",
              "      <td>...</td>\n",
              "    </tr>\n",
              "    <tr>\n",
              "      <th>97</th>\n",
              "      <td>BVC</td>\n",
              "      <td>2021-05-26</td>\n",
              "      <td>51217</td>\n",
              "      <td>596055740</td>\n",
              "      <td>11630</td>\n",
              "      <td>11700</td>\n",
              "      <td>11637.85</td>\n",
              "      <td>11580</td>\n",
              "      <td>-0.17</td>\n",
              "      <td>-20</td>\n",
              "    </tr>\n",
              "    <tr>\n",
              "      <th>98</th>\n",
              "      <td>BVC</td>\n",
              "      <td>2021-05-27</td>\n",
              "      <td>765498</td>\n",
              "      <td>8803902350</td>\n",
              "      <td>11500</td>\n",
              "      <td>11670</td>\n",
              "      <td>11500.88</td>\n",
              "      <td>11480</td>\n",
              "      <td>-1.12</td>\n",
              "      <td>-130</td>\n",
              "    </tr>\n",
              "    <tr>\n",
              "      <th>99</th>\n",
              "      <td>BVC</td>\n",
              "      <td>2021-05-28</td>\n",
              "      <td>25717</td>\n",
              "      <td>295155930</td>\n",
              "      <td>11490</td>\n",
              "      <td>11500</td>\n",
              "      <td>11477.07</td>\n",
              "      <td>11400</td>\n",
              "      <td>-0.09</td>\n",
              "      <td>-10</td>\n",
              "    </tr>\n",
              "    <tr>\n",
              "      <th>100</th>\n",
              "      <td>BVC</td>\n",
              "      <td>2021-05-31</td>\n",
              "      <td>1350</td>\n",
              "      <td>15412250</td>\n",
              "      <td>11400</td>\n",
              "      <td>11400</td>\n",
              "      <td>11416.48</td>\n",
              "      <td>11400</td>\n",
              "      <td>-0.78</td>\n",
              "      <td>-90</td>\n",
              "    </tr>\n",
              "    <tr>\n",
              "      <th>101</th>\n",
              "      <td>BVC</td>\n",
              "      <td>2021-06-01</td>\n",
              "      <td>14201</td>\n",
              "      <td>160522540</td>\n",
              "      <td>11500</td>\n",
              "      <td>11500</td>\n",
              "      <td>11303.61</td>\n",
              "      <td>11230</td>\n",
              "      <td>0.88</td>\n",
              "      <td>100</td>\n",
              "    </tr>\n",
              "  </tbody>\n",
              "</table>\n",
              "<p>102 rows × 10 columns</p>\n",
              "</div>"
            ],
            "text/plain": [
              "    Nemotecnico      fecha  ...  Variacion%  Variacion Absoluta\n",
              "0    BVC        2021-01-04  ...       -0.17                 -20\n",
              "1    BVC        2021-01-05  ...        0.67                  80\n",
              "2    BVC        2021-01-06  ...        0.00                   0\n",
              "3    BVC        2021-01-07  ...        2.85                 340\n",
              "4    BVC        2021-01-08  ...        3.42                 420\n",
              "..          ...        ...  ...         ...                 ...\n",
              "97   BVC        2021-05-26  ...       -0.17                 -20\n",
              "98   BVC        2021-05-27  ...       -1.12                -130\n",
              "99   BVC        2021-05-28  ...       -0.09                 -10\n",
              "100  BVC        2021-05-31  ...       -0.78                 -90\n",
              "101  BVC        2021-06-01  ...        0.88                 100\n",
              "\n",
              "[102 rows x 10 columns]"
            ]
          },
          "metadata": {},
          "execution_count": 32
        }
      ]
    },
    {
      "cell_type": "code",
      "metadata": {
        "colab": {
          "base_uri": "https://localhost:8080/",
          "height": 316
        },
        "id": "cJM9kWfA28rS",
        "outputId": "afe277bb-e7b5-485a-df49-d597c39d062a"
      },
      "source": [
        "Datos.describe()"
      ],
      "execution_count": null,
      "outputs": [
        {
          "output_type": "execute_result",
          "data": {
            "text/html": [
              "<div>\n",
              "<style scoped>\n",
              "    .dataframe tbody tr th:only-of-type {\n",
              "        vertical-align: middle;\n",
              "    }\n",
              "\n",
              "    .dataframe tbody tr th {\n",
              "        vertical-align: top;\n",
              "    }\n",
              "\n",
              "    .dataframe thead th {\n",
              "        text-align: right;\n",
              "    }\n",
              "</style>\n",
              "<table border=\"1\" class=\"dataframe\">\n",
              "  <thead>\n",
              "    <tr style=\"text-align: right;\">\n",
              "      <th></th>\n",
              "      <th>Cantidad</th>\n",
              "      <th>Volumen</th>\n",
              "      <th>Precio Cierre</th>\n",
              "      <th>Precio Mayor</th>\n",
              "      <th>Precio Medio</th>\n",
              "      <th>Precio Menor</th>\n",
              "      <th>Variacion%</th>\n",
              "      <th>Variacion Absoluta</th>\n",
              "    </tr>\n",
              "  </thead>\n",
              "  <tbody>\n",
              "    <tr>\n",
              "      <th>count</th>\n",
              "      <td>102.000000</td>\n",
              "      <td>1.020000e+02</td>\n",
              "      <td>102.000000</td>\n",
              "      <td>102.000000</td>\n",
              "      <td>102.000000</td>\n",
              "      <td>102.000000</td>\n",
              "      <td>102.000000</td>\n",
              "      <td>102.000000</td>\n",
              "    </tr>\n",
              "    <tr>\n",
              "      <th>mean</th>\n",
              "      <td>58835.313725</td>\n",
              "      <td>7.024136e+08</td>\n",
              "      <td>12121.372549</td>\n",
              "      <td>11814.117647</td>\n",
              "      <td>12082.939902</td>\n",
              "      <td>11646.960784</td>\n",
              "      <td>-0.025000</td>\n",
              "      <td>-3.725490</td>\n",
              "    </tr>\n",
              "    <tr>\n",
              "      <th>std</th>\n",
              "      <td>94869.624610</td>\n",
              "      <td>1.108875e+09</td>\n",
              "      <td>361.326048</td>\n",
              "      <td>2096.573514</td>\n",
              "      <td>357.335829</td>\n",
              "      <td>2070.289017</td>\n",
              "      <td>1.171224</td>\n",
              "      <td>143.160379</td>\n",
              "    </tr>\n",
              "    <tr>\n",
              "      <th>min</th>\n",
              "      <td>92.000000</td>\n",
              "      <td>1.168080e+06</td>\n",
              "      <td>11400.000000</td>\n",
              "      <td>0.000000</td>\n",
              "      <td>11303.610000</td>\n",
              "      <td>0.000000</td>\n",
              "      <td>-3.530000</td>\n",
              "      <td>-440.000000</td>\n",
              "    </tr>\n",
              "    <tr>\n",
              "      <th>25%</th>\n",
              "      <td>13076.250000</td>\n",
              "      <td>1.595318e+08</td>\n",
              "      <td>11940.000000</td>\n",
              "      <td>11942.500000</td>\n",
              "      <td>11918.127500</td>\n",
              "      <td>11777.500000</td>\n",
              "      <td>-0.587500</td>\n",
              "      <td>-72.500000</td>\n",
              "    </tr>\n",
              "    <tr>\n",
              "      <th>50%</th>\n",
              "      <td>26081.000000</td>\n",
              "      <td>3.057983e+08</td>\n",
              "      <td>12150.000000</td>\n",
              "      <td>12185.000000</td>\n",
              "      <td>12100.590000</td>\n",
              "      <td>12000.000000</td>\n",
              "      <td>0.000000</td>\n",
              "      <td>0.000000</td>\n",
              "    </tr>\n",
              "    <tr>\n",
              "      <th>75%</th>\n",
              "      <td>63503.500000</td>\n",
              "      <td>7.661528e+08</td>\n",
              "      <td>12345.000000</td>\n",
              "      <td>12397.500000</td>\n",
              "      <td>12349.712500</td>\n",
              "      <td>12237.500000</td>\n",
              "      <td>0.425000</td>\n",
              "      <td>50.000000</td>\n",
              "    </tr>\n",
              "    <tr>\n",
              "      <th>max</th>\n",
              "      <td>765498.000000</td>\n",
              "      <td>8.803902e+09</td>\n",
              "      <td>12740.000000</td>\n",
              "      <td>12870.000000</td>\n",
              "      <td>12709.300000</td>\n",
              "      <td>12700.000000</td>\n",
              "      <td>4.000000</td>\n",
              "      <td>490.000000</td>\n",
              "    </tr>\n",
              "  </tbody>\n",
              "</table>\n",
              "</div>"
            ],
            "text/plain": [
              "            Cantidad       Volumen  ...  Variacion%  Variacion Absoluta\n",
              "count     102.000000  1.020000e+02  ...  102.000000          102.000000\n",
              "mean    58835.313725  7.024136e+08  ...   -0.025000           -3.725490\n",
              "std     94869.624610  1.108875e+09  ...    1.171224          143.160379\n",
              "min        92.000000  1.168080e+06  ...   -3.530000         -440.000000\n",
              "25%     13076.250000  1.595318e+08  ...   -0.587500          -72.500000\n",
              "50%     26081.000000  3.057983e+08  ...    0.000000            0.000000\n",
              "75%     63503.500000  7.661528e+08  ...    0.425000           50.000000\n",
              "max    765498.000000  8.803902e+09  ...    4.000000          490.000000\n",
              "\n",
              "[8 rows x 8 columns]"
            ]
          },
          "metadata": {},
          "execution_count": 42
        }
      ]
    },
    {
      "cell_type": "code",
      "metadata": {
        "colab": {
          "base_uri": "https://localhost:8080/",
          "height": 279
        },
        "id": "qt45Kr194GAV",
        "outputId": "99c213b5-caeb-4623-d233-758aeeb7a165"
      },
      "source": [
        "sns.boxplot(x=Datos['Precio Cierre']); plt.show()"
      ],
      "execution_count": null,
      "outputs": [
        {
          "output_type": "display_data",
          "data": {
            "image/png": "[encoded data removed]",
            "text/plain": [
              "<Figure size 432x288 with 1 Axes>"
            ]
          },
          "metadata": {
            "needs_background": "light"
          }
        }
      ]
    },
    {
      "cell_type": "code",
      "metadata": {
        "colab": {
          "base_uri": "https://localhost:8080/",
          "height": 352
        },
        "id": "u5GwYwOO49UO",
        "outputId": "1cc5cd3f-1e32-447b-c328-5f0d9734b93a"
      },
      "source": [
        "plt.figure(figsize=(12,5))\n",
        "sns.regplot(x=np.arange(102),y=Datos['Precio Cierre'], label='Precio cierre'); \n",
        "plt.plot(Datos['Precio Medio'],'o',ms=3.5, label='Precio Medio'); \n",
        "plt.xlabel('Días transcurridos')\n",
        "plt.title('Acciones de BVC desde 04-01-21 hasta el 04-10-21', size=15)\n",
        "plt.legend(); plt.grid(); plt.show()"
      ],
      "execution_count": null,
      "outputs": [
        {
          "output_type": "display_data",
          "data": {
            "image/png": "[encoded data removed]",
            "text/plain": [
              "<Figure size 864x360 with 1 Axes>"
            ]
          },
          "metadata": {
            "needs_background": "light"
          }
        }
      ]
    },
    {
      "cell_type": "code",
      "metadata": {
        "colab": {
          "base_uri": "https://localhost:8080/",
          "height": 279
        },
        "id": "HWvBs6G86PXg",
        "outputId": "16d5ea44-c58a-40a8-ce4f-abe00fe7ca53"
      },
      "source": [
        "sns.histplot(Datos['Cantidad']); plt.show()"
      ],
      "execution_count": null,
      "outputs": [
        {
          "output_type": "display_data",
          "data": {
            "image/png": "[encoded data removed]",
            "text/plain": [
              "<Figure size 432x288 with 1 Axes>"
            ]
          },
          "metadata": {
            "needs_background": "light"
          }
        }
      ]
    },
    {
      "cell_type": "code",
      "metadata": {
        "colab": {
          "base_uri": "https://localhost:8080/",
          "height": 294
        },
        "id": "zsAeSdPCBJE1",
        "outputId": "7468853a-2067-4c3a-ada0-8b31ff60101a"
      },
      "source": [
        "sns.regplot(x=np.arange(102),y=Datos['Variacion%'])\n",
        "plt.xlabel('Días transcurridos')\n",
        "plt.title('Variación % del precio cierre en acciones BVA',size=10); plt.show()"
      ],
      "execution_count": null,
      "outputs": [
        {
          "output_type": "display_data",
          "data": {
            "image/png": "[encoded data removed]",
            "text/plain": [
              "<Figure size 432x288 with 1 Axes>"
            ]
          },
          "metadata": {
            "needs_background": "light"
          }
        }
      ]
    }
  ]
}