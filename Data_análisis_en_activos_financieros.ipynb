{
  "cells": [
    {
      "cell_type": "code",
      "source": [
        "# Paquetes !\n",
        "# -----------------------------\n",
        "!pip install yfinance\n",
        "import yfinance as yf\n",
        "import pandas as pd\n",
        "import numpy as np\n",
        "import matplotlib.pyplot as plt\n",
        "import seaborn as sns\n",
        "import warnings\n",
        "warnings.filterwarnings(\"ignore\")"
      ],
      "metadata": {
        "id": "1ETAPOjtojUq"
      },
      "execution_count": null,
      "outputs": []
    },
    {
      "cell_type": "markdown",
      "source": [
        "# 1. Importación de datos"
      ],
      "metadata": {
        "id": "0korsSHUsJXQ"
      }
    },
    {
      "cell_type": "code",
      "source": [
        "AMZ = yf.Ticker('AMZN').history('max')['Close']\n",
        "ML = yf.Ticker('MELI').history('max')['Close']\n",
        "SP = yf.Ticker('SE').history('max')['Close']\n",
        "EB = yf.Ticker('EBAY').history('max')['Close']\n",
        "\n",
        "data = pd.concat([AMZ,ML,SP,EB],axis=1, \n",
        "             keys=['Amazon', 'Mercado Libre', 'Shopee', 'Ebay'])\n",
        "data"
      ],
      "metadata": {
        "colab": {
          "base_uri": "https://localhost:8080/"
        },
        "id": "-TcM6o7aojq9",
        "outputId": "a53fddcb-5c18-4c02-8f3d-8cc31f95d96a"
      },
      "execution_count": null,
      "outputs": [
        {
          "output_type": "execute_result",
          "data": {
            "text/plain": [
              "                              Amazon  Mercado Libre     Shopee       Ebay\n",
              "Date                                                                     \n",
              "1997-05-15 00:00:00-04:00   0.097917            NaN        NaN        NaN\n",
              "1997-05-16 00:00:00-04:00   0.086458            NaN        NaN        NaN\n",
              "1997-05-19 00:00:00-04:00   0.085417            NaN        NaN        NaN\n",
              "1997-05-20 00:00:00-04:00   0.081771            NaN        NaN        NaN\n",
              "1997-05-21 00:00:00-04:00   0.071354            NaN        NaN        NaN\n",
              "...                              ...            ...        ...        ...\n",
              "2022-11-14 00:00:00-05:00  98.489998     959.580017  45.799999  45.910000\n",
              "2022-11-15 00:00:00-05:00  98.940002    1020.679993  62.310001  47.020000\n",
              "2022-11-16 00:00:00-05:00  97.120003     972.820007  58.759998  45.490002\n",
              "2022-11-17 00:00:00-05:00  94.849998     927.130005  59.930000  45.470001\n",
              "2022-11-18 00:00:00-05:00  92.771896     946.730103  56.830002  45.450001\n",
              "\n",
              "[6423 rows x 4 columns]"
            ],
            "text/html": [
              "\n",
              "  <div id=\"df-168b5980-090b-42c0-99a5-14eb85499097\">\n",
              "    <div class=\"colab-df-container\">\n",
              "      <div>\n",
              "<style scoped>\n",
              "    .dataframe tbody tr th:only-of-type {\n",
              "        vertical-align: middle;\n",
              "    }\n",
              "\n",
              "    .dataframe tbody tr th {\n",
              "        vertical-align: top;\n",
              "    }\n",
              "\n",
              "    .dataframe thead th {\n",
              "        text-align: right;\n",
              "    }\n",
              "</style>\n",
              "<table border=\"1\" class=\"dataframe\">\n",
              "  <thead>\n",
              "    <tr style=\"text-align: right;\">\n",
              "      <th></th>\n",
              "      <th>Amazon</th>\n",
              "      <th>Mercado Libre</th>\n",
              "      <th>Shopee</th>\n",
              "      <th>Ebay</th>\n",
              "    </tr>\n",
              "    <tr>\n",
              "      <th>Date</th>\n",
              "      <th></th>\n",
              "      <th></th>\n",
              "      <th></th>\n",
              "      <th></th>\n",
              "    </tr>\n",
              "  </thead>\n",
              "  <tbody>\n",
              "    <tr>\n",
              "      <th>1997-05-15 00:00:00-04:00</th>\n",
              "      <td>0.097917</td>\n",
              "      <td>NaN</td>\n",
              "      <td>NaN</td>\n",
              "      <td>NaN</td>\n",
              "    </tr>\n",
              "    <tr>\n",
              "      <th>1997-05-16 00:00:00-04:00</th>\n",
              "      <td>0.086458</td>\n",
              "      <td>NaN</td>\n",
              "      <td>NaN</td>\n",
              "      <td>NaN</td>\n",
              "    </tr>\n",
              "    <tr>\n",
              "      <th>1997-05-19 00:00:00-04:00</th>\n",
              "      <td>0.085417</td>\n",
              "      <td>NaN</td>\n",
              "      <td>NaN</td>\n",
              "      <td>NaN</td>\n",
              "    </tr>\n",
              "    <tr>\n",
              "      <th>1997-05-20 00:00:00-04:00</th>\n",
              "      <td>0.081771</td>\n",
              "      <td>NaN</td>\n",
              "      <td>NaN</td>\n",
              "      <td>NaN</td>\n",
              "    </tr>\n",
              "    <tr>\n",
              "      <th>1997-05-21 00:00:00-04:00</th>\n",
              "      <td>0.071354</td>\n",
              "      <td>NaN</td>\n",
              "      <td>NaN</td>\n",
              "      <td>NaN</td>\n",
              "    </tr>\n",
              "    <tr>\n",
              "      <th>...</th>\n",
              "      <td>...</td>\n",
              "      <td>...</td>\n",
              "      <td>...</td>\n",
              "      <td>...</td>\n",
              "    </tr>\n",
              "    <tr>\n",
              "      <th>2022-11-14 00:00:00-05:00</th>\n",
              "      <td>98.489998</td>\n",
              "      <td>959.580017</td>\n",
              "      <td>45.799999</td>\n",
              "      <td>45.910000</td>\n",
              "    </tr>\n",
              "    <tr>\n",
              "      <th>2022-11-15 00:00:00-05:00</th>\n",
              "      <td>98.940002</td>\n",
              "      <td>1020.679993</td>\n",
              "      <td>62.310001</td>\n",
              "      <td>47.020000</td>\n",
              "    </tr>\n",
              "    <tr>\n",
              "      <th>2022-11-16 00:00:00-05:00</th>\n",
              "      <td>97.120003</td>\n",
              "      <td>972.820007</td>\n",
              "      <td>58.759998</td>\n",
              "      <td>45.490002</td>\n",
              "    </tr>\n",
              "    <tr>\n",
              "      <th>2022-11-17 00:00:00-05:00</th>\n",
              "      <td>94.849998</td>\n",
              "      <td>927.130005</td>\n",
              "      <td>59.930000</td>\n",
              "      <td>45.470001</td>\n",
              "    </tr>\n",
              "    <tr>\n",
              "      <th>2022-11-18 00:00:00-05:00</th>\n",
              "      <td>92.771896</td>\n",
              "      <td>946.730103</td>\n",
              "      <td>56.830002</td>\n",
              "      <td>45.450001</td>\n",
              "    </tr>\n",
              "  </tbody>\n",
              "</table>\n",
              "<p>6423 rows × 4 columns</p>\n",
              "</div>\n",
              "      <button class=\"colab-df-convert\" onclick=\"convertToInteractive('df-168b5980-090b-42c0-99a5-14eb85499097')\"\n",
              "              title=\"Convert this dataframe to an interactive table.\"\n",
              "              style=\"display:none;\">\n",
              "        \n",
              "  <svg xmlns=\"http://www.w3.org/2000/svg\" height=\"24px\"viewBox=\"0 0 24 24\"\n",
              "       width=\"24px\">\n",
              "    <path d=\"M0 0h24v24H0V0z\" fill=\"none\"/>\n",
              "    <path d=\"M18.56 5.44l.94 2.06.94-2.06 2.06-.94-2.06-.94-.94-2.06-.94 2.06-2.06.94zm-11 1L8.5 8.5l.94-2.06 2.06-.94-2.06-.94L8.5 2.5l-.94 2.06-2.06.94zm10 10l.94 2.06.94-2.06 2.06-.94-2.06-.94-.94-2.06-.94 2.06-2.06.94z\"/><path d=\"M17.41 7.96l-1.37-1.37c-.4-.4-.92-.59-1.43-.59-.52 0-1.04.2-1.43.59L10.3 9.45l-7.72 7.72c-.78.78-.78 2.05 0 2.83L4 21.41c.39.39.9.59 1.41.59.51 0 1.02-.2 1.41-.59l7.78-7.78 2.81-2.81c.8-.78.8-2.07 0-2.86zM5.41 20L4 18.59l7.72-7.72 1.47 1.35L5.41 20z\"/>\n",
              "  </svg>\n",
              "      </button>\n",
              "      \n",
              "  <style>\n",
              "    .colab-df-container {\n",
              "      display:flex;\n",
              "      flex-wrap:wrap;\n",
              "      gap: 12px;\n",
              "    }\n",
              "\n",
              "    .colab-df-convert {\n",
              "      background-color: #E8F0FE;\n",
              "      border: none;\n",
              "      border-radius: 50%;\n",
              "      cursor: pointer;\n",
              "      display: none;\n",
              "      fill: #1967D2;\n",
              "      height: 32px;\n",
              "      padding: 0 0 0 0;\n",
              "      width: 32px;\n",
              "    }\n",
              "\n",
              "    .colab-df-convert:hover {\n",
              "      background-color: #E2EBFA;\n",
              "      box-shadow: 0px 1px 2px rgba(60, 64, 67, 0.3), 0px 1px 3px 1px rgba(60, 64, 67, 0.15);\n",
              "      fill: #174EA6;\n",
              "    }\n",
              "\n",
              "    [theme=dark] .colab-df-convert {\n",
              "      background-color: #3B4455;\n",
              "      fill: #D2E3FC;\n",
              "    }\n",
              "\n",
              "    [theme=dark] .colab-df-convert:hover {\n",
              "      background-color: #434B5C;\n",
              "      box-shadow: 0px 1px 3px 1px rgba(0, 0, 0, 0.15);\n",
              "      filter: drop-shadow(0px 1px 2px rgba(0, 0, 0, 0.3));\n",
              "      fill: #FFFFFF;\n",
              "    }\n",
              "  </style>\n",
              "\n",
              "      <script>\n",
              "        const buttonEl =\n",
              "          document.querySelector('#df-168b5980-090b-42c0-99a5-14eb85499097 button.colab-df-convert');\n",
              "        buttonEl.style.display =\n",
              "          google.colab.kernel.accessAllowed ? 'block' : 'none';\n",
              "\n",
              "        async function convertToInteractive(key) {\n",
              "          const element = document.querySelector('#df-168b5980-090b-42c0-99a5-14eb85499097');\n",
              "          const dataTable =\n",
              "            await google.colab.kernel.invokeFunction('convertToInteractive',\n",
              "                                                     [key], {});\n",
              "          if (!dataTable) return;\n",
              "\n",
              "          const docLinkHtml = 'Like what you see? Visit the ' +\n",
              "            '<a target=\"_blank\" href=https://colab.research.google.com/notebooks/data_table.ipynb>data table notebook</a>'\n",
              "            + ' to learn more about interactive tables.';\n",
              "          element.innerHTML = '';\n",
              "          dataTable['output_type'] = 'display_data';\n",
              "          await google.colab.output.renderOutput(dataTable, element);\n",
              "          const docLink = document.createElement('div');\n",
              "          docLink.innerHTML = docLinkHtml;\n",
              "          element.appendChild(docLink);\n",
              "        }\n",
              "      </script>\n",
              "    </div>\n",
              "  </div>\n",
              "  "
            ]
          },
          "metadata": {},
          "execution_count": 3
        }
      ]
    },
    {
      "cell_type": "markdown",
      "source": [
        "# 2. Descripción de la importación de los datos"
      ],
      "metadata": {
        "id": "pSmypT7msNeP"
      }
    },
    {
      "cell_type": "markdown",
      "source": [
        "Los datos fueron obtenidos del paquete 'yfinance' de Python soportado gracias a Yahoo! finance (https://finance.yahoo.com/) donde se actualizan los datos en tiempo real día a día. Con el comando,\n",
        "$$yf.Ticker(CODE).history('max')['Close']$$\n",
        "Se obtiene el activo financiero en todo el periodo historico desde que la empresa (CODE, dado en acronimo) empieza a cotizar en bolsa. Por otro lado; Yahoo finance funciona con servidores activos 24H, por lo cual hace que no sea necesario descargar ni cargar en Python ningún tipo de archivo."
      ],
      "metadata": {
        "id": "8TQcHcWysXKW"
      }
    },
    {
      "cell_type": "markdown",
      "source": [
        "# 3. Descripción de los datos"
      ],
      "metadata": {
        "id": "LgC8-mJTuPSr"
      }
    },
    {
      "cell_type": "markdown",
      "source": [
        "Dado que son precios de cierre en las acciones de ciertas empresas, serán las cuatro variables datos cuantitativos continuos dado en dólares para todo el periodo historico registrado, el cual podemos ver que son 6423 registros para los cuales no todas las variables posee datos en los primeros días. Podemos ver que Amazon cotizó en bolsa antes (1997) que Mercado Libre, Shopee y Ebay."
      ],
      "metadata": {
        "id": "AHI9AspbuYzx"
      }
    },
    {
      "cell_type": "markdown",
      "source": [
        "# 4. Estadistica descriptiva"
      ],
      "metadata": {
        "id": "j5_cL1BIvJ_L"
      }
    },
    {
      "cell_type": "code",
      "source": [
        "data.describe()"
      ],
      "metadata": {
        "colab": {
          "base_uri": "https://localhost:8080/"
        },
        "id": "f6EsDQxYuXnX",
        "outputId": "b7b02cf9-f7dc-488c-cb6a-7dcb1cc08364"
      },
      "execution_count": null,
      "outputs": [
        {
          "output_type": "execute_result",
          "data": {
            "text/plain": [
              "            Amazon  Mercado Libre       Shopee         Ebay\n",
              "count  6423.000000    3848.000000  1280.000000  6080.000000\n",
              "mean     30.686932     343.178513    99.666211    20.644709\n",
              "std      47.794772     451.693073    99.975185    15.447203\n",
              "min       0.069792       8.023303    10.340000     0.481848\n",
              "25%       1.988500      69.314173    15.907500     9.342196\n",
              "50%       6.234500     120.083008    51.525000    15.476283\n",
              "75%      36.591999     378.832504   163.290005    27.772664\n",
              "max     186.570496    1984.339966   366.989990    79.297478"
            ],
            "text/html": [
              "\n",
              "  <div id=\"df-7b97f18a-04fd-456a-839d-03889112dbfb\">\n",
              "    <div class=\"colab-df-container\">\n",
              "      <div>\n",
              "<style scoped>\n",
              "    .dataframe tbody tr th:only-of-type {\n",
              "        vertical-align: middle;\n",
              "    }\n",
              "\n",
              "    .dataframe tbody tr th {\n",
              "        vertical-align: top;\n",
              "    }\n",
              "\n",
              "    .dataframe thead th {\n",
              "        text-align: right;\n",
              "    }\n",
              "</style>\n",
              "<table border=\"1\" class=\"dataframe\">\n",
              "  <thead>\n",
              "    <tr style=\"text-align: right;\">\n",
              "      <th></th>\n",
              "      <th>Amazon</th>\n",
              "      <th>Mercado Libre</th>\n",
              "      <th>Shopee</th>\n",
              "      <th>Ebay</th>\n",
              "    </tr>\n",
              "  </thead>\n",
              "  <tbody>\n",
              "    <tr>\n",
              "      <th>count</th>\n",
              "      <td>6423.000000</td>\n",
              "      <td>3848.000000</td>\n",
              "      <td>1280.000000</td>\n",
              "      <td>6080.000000</td>\n",
              "    </tr>\n",
              "    <tr>\n",
              "      <th>mean</th>\n",
              "      <td>30.686932</td>\n",
              "      <td>343.178513</td>\n",
              "      <td>99.666211</td>\n",
              "      <td>20.644709</td>\n",
              "    </tr>\n",
              "    <tr>\n",
              "      <th>std</th>\n",
              "      <td>47.794772</td>\n",
              "      <td>451.693073</td>\n",
              "      <td>99.975185</td>\n",
              "      <td>15.447203</td>\n",
              "    </tr>\n",
              "    <tr>\n",
              "      <th>min</th>\n",
              "      <td>0.069792</td>\n",
              "      <td>8.023303</td>\n",
              "      <td>10.340000</td>\n",
              "      <td>0.481848</td>\n",
              "    </tr>\n",
              "    <tr>\n",
              "      <th>25%</th>\n",
              "      <td>1.988500</td>\n",
              "      <td>69.314173</td>\n",
              "      <td>15.907500</td>\n",
              "      <td>9.342196</td>\n",
              "    </tr>\n",
              "    <tr>\n",
              "      <th>50%</th>\n",
              "      <td>6.234500</td>\n",
              "      <td>120.083008</td>\n",
              "      <td>51.525000</td>\n",
              "      <td>15.476283</td>\n",
              "    </tr>\n",
              "    <tr>\n",
              "      <th>75%</th>\n",
              "      <td>36.591999</td>\n",
              "      <td>378.832504</td>\n",
              "      <td>163.290005</td>\n",
              "      <td>27.772664</td>\n",
              "    </tr>\n",
              "    <tr>\n",
              "      <th>max</th>\n",
              "      <td>186.570496</td>\n",
              "      <td>1984.339966</td>\n",
              "      <td>366.989990</td>\n",
              "      <td>79.297478</td>\n",
              "    </tr>\n",
              "  </tbody>\n",
              "</table>\n",
              "</div>\n",
              "      <button class=\"colab-df-convert\" onclick=\"convertToInteractive('df-7b97f18a-04fd-456a-839d-03889112dbfb')\"\n",
              "              title=\"Convert this dataframe to an interactive table.\"\n",
              "              style=\"display:none;\">\n",
              "        \n",
              "  <svg xmlns=\"http://www.w3.org/2000/svg\" height=\"24px\"viewBox=\"0 0 24 24\"\n",
              "       width=\"24px\">\n",
              "    <path d=\"M0 0h24v24H0V0z\" fill=\"none\"/>\n",
              "    <path d=\"M18.56 5.44l.94 2.06.94-2.06 2.06-.94-2.06-.94-.94-2.06-.94 2.06-2.06.94zm-11 1L8.5 8.5l.94-2.06 2.06-.94-2.06-.94L8.5 2.5l-.94 2.06-2.06.94zm10 10l.94 2.06.94-2.06 2.06-.94-2.06-.94-.94-2.06-.94 2.06-2.06.94z\"/><path d=\"M17.41 7.96l-1.37-1.37c-.4-.4-.92-.59-1.43-.59-.52 0-1.04.2-1.43.59L10.3 9.45l-7.72 7.72c-.78.78-.78 2.05 0 2.83L4 21.41c.39.39.9.59 1.41.59.51 0 1.02-.2 1.41-.59l7.78-7.78 2.81-2.81c.8-.78.8-2.07 0-2.86zM5.41 20L4 18.59l7.72-7.72 1.47 1.35L5.41 20z\"/>\n",
              "  </svg>\n",
              "      </button>\n",
              "      \n",
              "  <style>\n",
              "    .colab-df-container {\n",
              "      display:flex;\n",
              "      flex-wrap:wrap;\n",
              "      gap: 12px;\n",
              "    }\n",
              "\n",
              "    .colab-df-convert {\n",
              "      background-color: #E8F0FE;\n",
              "      border: none;\n",
              "      border-radius: 50%;\n",
              "      cursor: pointer;\n",
              "      display: none;\n",
              "      fill: #1967D2;\n",
              "      height: 32px;\n",
              "      padding: 0 0 0 0;\n",
              "      width: 32px;\n",
              "    }\n",
              "\n",
              "    .colab-df-convert:hover {\n",
              "      background-color: #E2EBFA;\n",
              "      box-shadow: 0px 1px 2px rgba(60, 64, 67, 0.3), 0px 1px 3px 1px rgba(60, 64, 67, 0.15);\n",
              "      fill: #174EA6;\n",
              "    }\n",
              "\n",
              "    [theme=dark] .colab-df-convert {\n",
              "      background-color: #3B4455;\n",
              "      fill: #D2E3FC;\n",
              "    }\n",
              "\n",
              "    [theme=dark] .colab-df-convert:hover {\n",
              "      background-color: #434B5C;\n",
              "      box-shadow: 0px 1px 3px 1px rgba(0, 0, 0, 0.15);\n",
              "      filter: drop-shadow(0px 1px 2px rgba(0, 0, 0, 0.3));\n",
              "      fill: #FFFFFF;\n",
              "    }\n",
              "  </style>\n",
              "\n",
              "      <script>\n",
              "        const buttonEl =\n",
              "          document.querySelector('#df-7b97f18a-04fd-456a-839d-03889112dbfb button.colab-df-convert');\n",
              "        buttonEl.style.display =\n",
              "          google.colab.kernel.accessAllowed ? 'block' : 'none';\n",
              "\n",
              "        async function convertToInteractive(key) {\n",
              "          const element = document.querySelector('#df-7b97f18a-04fd-456a-839d-03889112dbfb');\n",
              "          const dataTable =\n",
              "            await google.colab.kernel.invokeFunction('convertToInteractive',\n",
              "                                                     [key], {});\n",
              "          if (!dataTable) return;\n",
              "\n",
              "          const docLinkHtml = 'Like what you see? Visit the ' +\n",
              "            '<a target=\"_blank\" href=https://colab.research.google.com/notebooks/data_table.ipynb>data table notebook</a>'\n",
              "            + ' to learn more about interactive tables.';\n",
              "          element.innerHTML = '';\n",
              "          dataTable['output_type'] = 'display_data';\n",
              "          await google.colab.output.renderOutput(dataTable, element);\n",
              "          const docLink = document.createElement('div');\n",
              "          docLink.innerHTML = docLinkHtml;\n",
              "          element.appendChild(docLink);\n",
              "        }\n",
              "      </script>\n",
              "    </div>\n",
              "  </div>\n",
              "  "
            ]
          },
          "metadata": {},
          "execution_count": 4
        }
      ]
    },
    {
      "cell_type": "markdown",
      "source": [
        "Vemos que Mercado Libre tiene mayor precio cierre en promedio que las demás compañias pero así mismo, una desviación estandar más alta. Lo que nos indica que en promedio, es más cotizada y por ende, más valorada en bolsa que las demás pero con una mayor cantidad de datos atipicos; es decir, periodos de tiempo en que la compañía posee máximos historicos. Mientras que Ebay y Amazon tiene un precio cierre más equilibrado con muy pocos datos atipicos; esto es,\n",
        "$$\\textit{Coeficiente de variación}: CV_x=\\frac{\\sigma_x}{\\mu_x}\\approx1$$"
      ],
      "metadata": {
        "id": "WurxKtauvU27"
      }
    },
    {
      "cell_type": "code",
      "source": [
        "data.corr()"
      ],
      "metadata": {
        "colab": {
          "base_uri": "https://localhost:8080/"
        },
        "id": "nRR70lUswbWY",
        "outputId": "a1f728bf-9a9d-4cea-fb65-d8a22e6222df"
      },
      "execution_count": null,
      "outputs": [
        {
          "output_type": "execute_result",
          "data": {
            "text/plain": [
              "                 Amazon  Mercado Libre    Shopee      Ebay\n",
              "Amazon         1.000000       0.947313  0.899560  0.942759\n",
              "Mercado Libre  0.947313       1.000000  0.938885  0.911781\n",
              "Shopee         0.899560       0.938885  1.000000  0.940617\n",
              "Ebay           0.942759       0.911781  0.940617  1.000000"
            ],
            "text/html": [
              "\n",
              "  <div id=\"df-0aac354d-5cac-4144-a6b3-4dd023e60685\">\n",
              "    <div class=\"colab-df-container\">\n",
              "      <div>\n",
              "<style scoped>\n",
              "    .dataframe tbody tr th:only-of-type {\n",
              "        vertical-align: middle;\n",
              "    }\n",
              "\n",
              "    .dataframe tbody tr th {\n",
              "        vertical-align: top;\n",
              "    }\n",
              "\n",
              "    .dataframe thead th {\n",
              "        text-align: right;\n",
              "    }\n",
              "</style>\n",
              "<table border=\"1\" class=\"dataframe\">\n",
              "  <thead>\n",
              "    <tr style=\"text-align: right;\">\n",
              "      <th></th>\n",
              "      <th>Amazon</th>\n",
              "      <th>Mercado Libre</th>\n",
              "      <th>Shopee</th>\n",
              "      <th>Ebay</th>\n",
              "    </tr>\n",
              "  </thead>\n",
              "  <tbody>\n",
              "    <tr>\n",
              "      <th>Amazon</th>\n",
              "      <td>1.000000</td>\n",
              "      <td>0.947313</td>\n",
              "      <td>0.899560</td>\n",
              "      <td>0.942759</td>\n",
              "    </tr>\n",
              "    <tr>\n",
              "      <th>Mercado Libre</th>\n",
              "      <td>0.947313</td>\n",
              "      <td>1.000000</td>\n",
              "      <td>0.938885</td>\n",
              "      <td>0.911781</td>\n",
              "    </tr>\n",
              "    <tr>\n",
              "      <th>Shopee</th>\n",
              "      <td>0.899560</td>\n",
              "      <td>0.938885</td>\n",
              "      <td>1.000000</td>\n",
              "      <td>0.940617</td>\n",
              "    </tr>\n",
              "    <tr>\n",
              "      <th>Ebay</th>\n",
              "      <td>0.942759</td>\n",
              "      <td>0.911781</td>\n",
              "      <td>0.940617</td>\n",
              "      <td>1.000000</td>\n",
              "    </tr>\n",
              "  </tbody>\n",
              "</table>\n",
              "</div>\n",
              "      <button class=\"colab-df-convert\" onclick=\"convertToInteractive('df-0aac354d-5cac-4144-a6b3-4dd023e60685')\"\n",
              "              title=\"Convert this dataframe to an interactive table.\"\n",
              "              style=\"display:none;\">\n",
              "        \n",
              "  <svg xmlns=\"http://www.w3.org/2000/svg\" height=\"24px\"viewBox=\"0 0 24 24\"\n",
              "       width=\"24px\">\n",
              "    <path d=\"M0 0h24v24H0V0z\" fill=\"none\"/>\n",
              "    <path d=\"M18.56 5.44l.94 2.06.94-2.06 2.06-.94-2.06-.94-.94-2.06-.94 2.06-2.06.94zm-11 1L8.5 8.5l.94-2.06 2.06-.94-2.06-.94L8.5 2.5l-.94 2.06-2.06.94zm10 10l.94 2.06.94-2.06 2.06-.94-2.06-.94-.94-2.06-.94 2.06-2.06.94z\"/><path d=\"M17.41 7.96l-1.37-1.37c-.4-.4-.92-.59-1.43-.59-.52 0-1.04.2-1.43.59L10.3 9.45l-7.72 7.72c-.78.78-.78 2.05 0 2.83L4 21.41c.39.39.9.59 1.41.59.51 0 1.02-.2 1.41-.59l7.78-7.78 2.81-2.81c.8-.78.8-2.07 0-2.86zM5.41 20L4 18.59l7.72-7.72 1.47 1.35L5.41 20z\"/>\n",
              "  </svg>\n",
              "      </button>\n",
              "      \n",
              "  <style>\n",
              "    .colab-df-container {\n",
              "      display:flex;\n",
              "      flex-wrap:wrap;\n",
              "      gap: 12px;\n",
              "    }\n",
              "\n",
              "    .colab-df-convert {\n",
              "      background-color: #E8F0FE;\n",
              "      border: none;\n",
              "      border-radius: 50%;\n",
              "      cursor: pointer;\n",
              "      display: none;\n",
              "      fill: #1967D2;\n",
              "      height: 32px;\n",
              "      padding: 0 0 0 0;\n",
              "      width: 32px;\n",
              "    }\n",
              "\n",
              "    .colab-df-convert:hover {\n",
              "      background-color: #E2EBFA;\n",
              "      box-shadow: 0px 1px 2px rgba(60, 64, 67, 0.3), 0px 1px 3px 1px rgba(60, 64, 67, 0.15);\n",
              "      fill: #174EA6;\n",
              "    }\n",
              "\n",
              "    [theme=dark] .colab-df-convert {\n",
              "      background-color: #3B4455;\n",
              "      fill: #D2E3FC;\n",
              "    }\n",
              "\n",
              "    [theme=dark] .colab-df-convert:hover {\n",
              "      background-color: #434B5C;\n",
              "      box-shadow: 0px 1px 3px 1px rgba(0, 0, 0, 0.15);\n",
              "      filter: drop-shadow(0px 1px 2px rgba(0, 0, 0, 0.3));\n",
              "      fill: #FFFFFF;\n",
              "    }\n",
              "  </style>\n",
              "\n",
              "      <script>\n",
              "        const buttonEl =\n",
              "          document.querySelector('#df-0aac354d-5cac-4144-a6b3-4dd023e60685 button.colab-df-convert');\n",
              "        buttonEl.style.display =\n",
              "          google.colab.kernel.accessAllowed ? 'block' : 'none';\n",
              "\n",
              "        async function convertToInteractive(key) {\n",
              "          const element = document.querySelector('#df-0aac354d-5cac-4144-a6b3-4dd023e60685');\n",
              "          const dataTable =\n",
              "            await google.colab.kernel.invokeFunction('convertToInteractive',\n",
              "                                                     [key], {});\n",
              "          if (!dataTable) return;\n",
              "\n",
              "          const docLinkHtml = 'Like what you see? Visit the ' +\n",
              "            '<a target=\"_blank\" href=https://colab.research.google.com/notebooks/data_table.ipynb>data table notebook</a>'\n",
              "            + ' to learn more about interactive tables.';\n",
              "          element.innerHTML = '';\n",
              "          dataTable['output_type'] = 'display_data';\n",
              "          await google.colab.output.renderOutput(dataTable, element);\n",
              "          const docLink = document.createElement('div');\n",
              "          docLink.innerHTML = docLinkHtml;\n",
              "          element.appendChild(docLink);\n",
              "        }\n",
              "      </script>\n",
              "    </div>\n",
              "  </div>\n",
              "  "
            ]
          },
          "metadata": {},
          "execution_count": 5
        }
      ]
    },
    {
      "cell_type": "markdown",
      "source": [
        "Concluimos que las variables están altamente correlacionadas (aún con alzas y bajas historicas); es decir, para $i,j=1,2,3,4$,\n",
        "$$r_{ij}=\\left|\\frac{\\sigma_{ij}}{\\sqrt{\\sigma_{ii}\\sigma_{jj}}}\\right|=\\frac{|\\sigma_{ij}|}{\\sqrt{\\sigma_{ii}\\sigma_{jj}}}<1$$"
      ],
      "metadata": {
        "id": "j8BfhPpyw4C9"
      }
    },
    {
      "cell_type": "markdown",
      "source": [
        "# 5. Gráficos estadisticos"
      ],
      "metadata": {
        "id": "hvb0AztRyRM6"
      }
    },
    {
      "cell_type": "code",
      "source": [
        "((data-data.mean())/data.std()).boxplot(figsize=(10,4))\n",
        "plt.title('Diagramas de caja para las cuatro compañias'); plt.show()\n",
        "data.hist(figsize=(10,4)); plt.show()\n",
        "sns.pairplot(data,kind=\"kde\",height=2, corner=True); plt.show()"
      ],
      "metadata": {
        "colab": {
          "base_uri": "https://localhost:8080/",
          "height": 1000
        },
        "id": "E-UWjqS9yR5b",
        "outputId": "737d2558-9b72-461c-d536-9f421cb6a4e8"
      },
      "execution_count": null,
      "outputs": [
        {
          "output_type": "display_data",
          "data": {
            "text/plain": [
              "<Figure size 720x288 with 1 Axes>"
            ],
            "image/png": "[encoded data removed]"
          },
          "metadata": {
            "needs_background": "light"
          }
        },
        {
          "output_type": "display_data",
          "data": {
            "text/plain": [
              "<Figure size 720x288 with 4 Axes>"
            ],
            "image/png": "[encoded data removed]"
          },
          "metadata": {
            "needs_background": "light"
          }
        },
        {
          "output_type": "display_data",
          "data": {
            "text/plain": [
              "<Figure size 576x576 with 14 Axes>"
            ],
            "image/png": "[encoded data removed]"
          },
          "metadata": {
            "needs_background": "light"
          }
        }
      ]
    }
  ],
  "metadata": {
    "colab": {
      "provenance": [],
      "collapsed_sections": [
        "0korsSHUsJXQ",
        "pSmypT7msNeP",
        "LgC8-mJTuPSr",
        "j5_cL1BIvJ_L",
        "hvb0AztRyRM6"
      ]
    },
    "kernelspec": {
      "display_name": "Python 3",
      "name": "python3"
    }
  },
  "nbformat": 4,
  "nbformat_minor": 0
}